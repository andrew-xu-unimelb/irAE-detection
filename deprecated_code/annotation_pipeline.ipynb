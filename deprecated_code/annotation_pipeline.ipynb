{
 "cells": [
  {
   "cell_type": "code",
   "execution_count": 2,
   "metadata": {},
   "outputs": [
    {
     "name": "stderr",
     "output_type": "stream",
     "text": [
      "/Users/andrewxu/Documents/docuMed/code/poc/.env/lib/python3.9/site-packages/tqdm/auto.py:22: TqdmWarning: IProgress not found. Please update jupyter and ipywidgets. See https://ipywidgets.readthedocs.io/en/stable/user_install.html\n",
      "  from .autonotebook import tqdm as notebook_tqdm\n"
     ]
    }
   ],
   "source": [
    "from prodigy.components.db import connect\n",
    "import prodigy_functions as prod\n",
    "import functions\n",
    "from datasets import load_dataset\n",
    "import spacy\n",
    "import os"
   ]
  },
  {
   "cell_type": "code",
   "execution_count": 3,
   "metadata": {},
   "outputs": [],
   "source": [
    "# connecting to database\n",
    "db = prod.database_connection(\n",
    "    dataset_name = \"test_bioGPT\"\n",
    ")\n",
    "\n",
    "db = db.connect()"
   ]
  },
  {
   "cell_type": "code",
   "execution_count": 5,
   "metadata": {},
   "outputs": [],
   "source": [
    "# pre-processing\n",
    "dir = \"./data/clinical_notes/1\"\n",
    "output_dir = \"./data/clinical_notes/1/annotated\"\n",
    "labels = [\n",
    "    \"Medication\",\n",
    "    \"Frequency\",\n",
    "    \"Dose\",\n",
    "    \"Route\"\n",
    "]\n",
    "\n",
    "for file in os.listdir(dir):\n",
    "    file_name = file + \"_processed.txt\"\n",
    "    output_path = os.path.join(output_dir, file_name)\n",
    "    preprocessor = prod.annotation_preprocessor(\n",
    "        input_dir = os.path.join(dir, file),\n",
    "        output_dir = output_path,\n",
    "        label_list = labels,\n",
    "        n = 10\n",
    "    )\n",
    "    if preprocessor.input_dir != \"./data/clinical_notes/1/.DS_Store\":\n",
    "        data = preprocessor.file_reader()\n",
    "        data = preprocessor.card_concatenator(data)\n",
    "\n",
    "        #saving processed files\n",
    "    if not os.path.exists(output_dir):\n",
    "        os.makedirs(output_dir)\n",
    "    preprocessor.write_to_file(data)"
   ]
  },
  {
   "cell_type": "code",
   "execution_count": 6,
   "metadata": {},
   "outputs": [
    {
     "name": "stdout",
     "output_type": "stream",
     "text": [
      "Using 4 label(s): Medication, Frequency, Dose, Route\n",
      "\n",
      "✨  Starting the web server at http://localhost:8080 ...\n",
      "Open the app in your browser and start annotating!\n",
      "\n"
     ]
    }
   ],
   "source": [
    "# running prodigy\n",
    "annotate = prod.annotation_module(\n",
    "    input_dir = \"./data/clinical_notes/1/annotated/106886_processed.txt\",\n",
    "    prod_source = \"test_bioGPT\",\n",
    "    model = \"./output/model-best\",\n",
    "    label = preprocessor.label_processor(),\n",
    "    output_dir = \"./data/clinical_notes/1/annotated\"\n",
    ")\n",
    "\n",
    "annotate.prodigy_connection(\"ner.manual\")"
   ]
  }
 ],
 "metadata": {
  "kernelspec": {
   "display_name": ".env",
   "language": "python",
   "name": "python3"
  },
  "language_info": {
   "codemirror_mode": {
    "name": "ipython",
    "version": 3
   },
   "file_extension": ".py",
   "mimetype": "text/x-python",
   "name": "python",
   "nbconvert_exporter": "python",
   "pygments_lexer": "ipython3",
   "version": "3.9.10"
  },
  "orig_nbformat": 4
 },
 "nbformat": 4,
 "nbformat_minor": 2
}
