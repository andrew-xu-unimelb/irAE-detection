{
 "cells": [
  {
   "cell_type": "code",
   "execution_count": 1,
   "metadata": {},
   "outputs": [],
   "source": [
    "import training_functions as train"
   ]
  },
  {
   "cell_type": "code",
   "execution_count": 2,
   "metadata": {},
   "outputs": [
    {
     "name": "stdout",
     "output_type": "stream",
     "text": [
      "\u001b[38;5;4mℹ Saving to output directory: output\u001b[0m\n",
      "\u001b[38;5;4mℹ Using CPU\u001b[0m\n",
      "\u001b[38;5;4mℹ To switch to GPU 0, use the option: --gpu-id 0\u001b[0m\n",
      "\u001b[1m\n",
      "=========================== Initializing pipeline ===========================\u001b[0m\n"
     ]
    },
    {
     "name": "stderr",
     "output_type": "stream",
     "text": [
      "[2023-03-20 18:00:12,531] [INFO] Set up nlp object from config\n",
      "[2023-03-20 18:00:12,536] [INFO] Pipeline: ['transformer', 'ner']\n",
      "[2023-03-20 18:00:12,537] [INFO] Created vocabulary\n",
      "[2023-03-20 18:00:12,538] [INFO] Finished initializing nlp object\n",
      "Some weights of the model checkpoint at microsoft/biogpt were not used when initializing BioGptModel: ['output_projection.weight']\n",
      "- This IS expected if you are initializing BioGptModel from the checkpoint of a model trained on another task or with another architecture (e.g. initializing a BertForSequenceClassification model from a BertForPreTraining model).\n",
      "- This IS NOT expected if you are initializing BioGptModel from the checkpoint of a model that you expect to be exactly identical (initializing a BertForSequenceClassification model from a BertForSequenceClassification model).\n",
      "Traceback (most recent call last):\n",
      "  File \"/Users/andrewxu/Documents/docuMed/code/poc/.env/bin/spacy\", line 8, in <module>\n",
      "    sys.exit(setup_cli())\n",
      "  File \"/Users/andrewxu/Documents/docuMed/code/poc/.env/lib/python3.9/site-packages/spacy/cli/_util.py\", line 71, in setup_cli\n",
      "    command(prog_name=COMMAND)\n",
      "  File \"/Users/andrewxu/Documents/docuMed/code/poc/.env/lib/python3.9/site-packages/click/core.py\", line 1130, in __call__\n",
      "    return self.main(*args, **kwargs)\n",
      "  File \"/Users/andrewxu/Documents/docuMed/code/poc/.env/lib/python3.9/site-packages/typer/core.py\", line 778, in main\n",
      "    return _main(\n",
      "  File \"/Users/andrewxu/Documents/docuMed/code/poc/.env/lib/python3.9/site-packages/typer/core.py\", line 216, in _main\n",
      "    rv = self.invoke(ctx)\n",
      "  File \"/Users/andrewxu/Documents/docuMed/code/poc/.env/lib/python3.9/site-packages/click/core.py\", line 1657, in invoke\n",
      "    return _process_result(sub_ctx.command.invoke(sub_ctx))\n",
      "  File \"/Users/andrewxu/Documents/docuMed/code/poc/.env/lib/python3.9/site-packages/click/core.py\", line 1404, in invoke\n",
      "    return ctx.invoke(self.callback, **ctx.params)\n",
      "  File \"/Users/andrewxu/Documents/docuMed/code/poc/.env/lib/python3.9/site-packages/click/core.py\", line 760, in invoke\n",
      "    return __callback(*args, **kwargs)\n",
      "  File \"/Users/andrewxu/Documents/docuMed/code/poc/.env/lib/python3.9/site-packages/typer/main.py\", line 683, in wrapper\n",
      "    return callback(**use_params)  # type: ignore\n",
      "  File \"/Users/andrewxu/Documents/docuMed/code/poc/.env/lib/python3.9/site-packages/spacy/cli/train.py\", line 45, in train_cli\n",
      "    train(config_path, output_path, use_gpu=use_gpu, overrides=overrides)\n",
      "  File \"/Users/andrewxu/Documents/docuMed/code/poc/.env/lib/python3.9/site-packages/spacy/cli/train.py\", line 72, in train\n",
      "    nlp = init_nlp(config, use_gpu=use_gpu)\n",
      "  File \"/Users/andrewxu/Documents/docuMed/code/poc/.env/lib/python3.9/site-packages/spacy/training/initialize.py\", line 84, in init_nlp\n",
      "    nlp.initialize(lambda: train_corpus(nlp), sgd=optimizer)\n",
      "  File \"/Users/andrewxu/Documents/docuMed/code/poc/.env/lib/python3.9/site-packages/spacy/language.py\", line 1323, in initialize\n",
      "    proc.initialize(get_examples, nlp=self, **p_settings)\n",
      "  File \"spacy/pipeline/transition_parser.pyx\", line 542, in spacy.pipeline.transition_parser.Parser.initialize\n",
      "  File \"spacy/training/example.pyx\", line 65, in spacy.training.example.validate_get_examples\n",
      "  File \"spacy/training/example.pyx\", line 44, in spacy.training.example.validate_examples\n",
      "  File \"/Users/andrewxu/Documents/docuMed/code/poc/.env/lib/python3.9/site-packages/spacy/training/corpus.py\", line 142, in __call__\n",
      "    for real_eg in examples:\n",
      "  File \"/Users/andrewxu/Documents/docuMed/code/poc/.env/lib/python3.9/site-packages/spacy/training/corpus.py\", line 164, in make_examples\n",
      "    for reference in reference_docs:\n",
      "  File \"/Users/andrewxu/Documents/docuMed/code/poc/.env/lib/python3.9/site-packages/spacy/training/corpus.py\", line 197, in read_docbin\n",
      "    doc_bin = DocBin().from_disk(loc)\n",
      "  File \"/Users/andrewxu/Documents/docuMed/code/poc/.env/lib/python3.9/site-packages/spacy/tokens/_serialize.py\", line 273, in from_disk\n",
      "    with path.open(\"rb\") as file_:\n",
      "  File \"/Users/andrewxu/miniforge3/lib/python3.9/pathlib.py\", line 1252, in open\n",
      "    return io.open(self, mode, buffering, encoding, errors, newline,\n",
      "  File \"/Users/andrewxu/miniforge3/lib/python3.9/pathlib.py\", line 1120, in _opener\n",
      "    return self._accessor.open(self, flags, mode)\n",
      "FileNotFoundError: [Errno 2] No such file or directory: 'data/training_test_1/train.spacy'\n"
     ]
    }
   ],
   "source": [
    "trainer = train.model_training(\n",
    "    config_dir = \"./config.cfg\",\n",
    "    output_dir = \"./output\"\n",
    ")\n",
    "\n",
    "trainer.train()"
   ]
  }
 ],
 "metadata": {
  "kernelspec": {
   "display_name": ".env",
   "language": "python",
   "name": "python3"
  },
  "language_info": {
   "codemirror_mode": {
    "name": "ipython",
    "version": 3
   },
   "file_extension": ".py",
   "mimetype": "text/x-python",
   "name": "python",
   "nbconvert_exporter": "python",
   "pygments_lexer": "ipython3",
   "version": "3.9.10"
  },
  "orig_nbformat": 4
 },
 "nbformat": 4,
 "nbformat_minor": 2
}
