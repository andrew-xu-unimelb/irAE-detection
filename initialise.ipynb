{
 "cells": [
  {
   "cell_type": "code",
   "execution_count": 1,
   "metadata": {},
   "outputs": [],
   "source": [
    "import pandas as pd\n",
    "import functions as fn"
   ]
  },
  {
   "cell_type": "code",
   "execution_count": null,
   "metadata": {},
   "outputs": [],
   "source": [
    "### TODO\n",
    "### check w/ David + Chris about assumptions about symptoms of irAEs"
   ]
  },
  {
   "cell_type": "code",
   "execution_count": 34,
   "metadata": {},
   "outputs": [],
   "source": [
    "### NOTE: only need to run this once - creates a file containing all the processed information ready for annotation\n",
    "file_path = \"./data/mimic-iv-note-deidentified-free-text-clinical-notes-2.2/note/\"\n",
    "df = pd.read_csv(file_path+\"discharge.csv\")\n",
    "text = \"\"\n",
    "for i in range(len(df)):\n",
    "    processor = fn.AnnotationProcess(df[\"text\"][i])\n",
    "    cards = processor.card_generator()\n",
    "    text += cards\n",
    "text\n",
    "with open(\"./data/processed_text.txt\", \"w\") as f:\n",
    "    f.write(text)"
   ]
  },
  {
   "cell_type": "code",
   "execution_count": 2,
   "metadata": {},
   "outputs": [
    {
     "name": "stdout",
     "output_type": "stream",
     "text": [
      "Using 5 label(s): irAE_symptom/sign, irAE_investigation_findings, Cancer,\n",
      "Immunotherapy, Chemotherapy\n"
     ]
    }
   ],
   "source": [
    "dir = \"./data\"\n",
    "label_list = [\n",
    "   \"irAE_symptom/sign\",\n",
    "   \"irAE_investigation_findings\",\n",
    "   \"Cancer\",\n",
    "   \"Immunotherapy\",\n",
    "   \"Chemotherapy\" \n",
    "]\n",
    "database = \"irAE\"\n",
    "model = \"en_core_web_sm\"\n",
    "annotate = fn.ProdigyFunctions(dir, label_list, database, model)\n",
    "\n",
    "annotate.database_connect()\n",
    "\n",
    "annotate.prodigy_connect(\"ner.manual\", \"./data/processed_text.txt\")\n"
   ]
  }
 ],
 "metadata": {
  "kernelspec": {
   "display_name": "env",
   "language": "python",
   "name": "python3"
  },
  "language_info": {
   "codemirror_mode": {
    "name": "ipython",
    "version": 3
   },
   "file_extension": ".py",
   "mimetype": "text/x-python",
   "name": "python",
   "nbconvert_exporter": "python",
   "pygments_lexer": "ipython3",
   "version": "3.9.10"
  },
  "orig_nbformat": 4
 },
 "nbformat": 4,
 "nbformat_minor": 2
}
