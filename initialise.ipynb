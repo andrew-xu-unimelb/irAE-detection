{
 "cells": [
  {
   "cell_type": "code",
   "execution_count": 1,
   "metadata": {},
   "outputs": [],
   "source": [
    "import pandas as pd\n",
    "import functions as fn"
   ]
  },
  {
   "cell_type": "code",
   "execution_count": null,
   "metadata": {},
   "outputs": [],
   "source": [
    "### TODO\n",
    "### process discharge summaries to only include text sections\n",
    "### iterate through entire dataframe, extract all discharge summaries, save as text file"
   ]
  },
  {
   "attachments": {},
   "cell_type": "markdown",
   "metadata": {},
   "source": [
    "Questions:\n",
    "- Should this be a NER task?\n",
    "- If it is a NER task - would it be: can I identify which symptoms are potentially related to irAEs?\n",
    "- Should there be any additional considerations? e.g. which files belong to people with chemo, etc\n",
    "- removing:\n",
    "    - everything above HOPC\n",
    "    - everything below Discharge Instructions"
   ]
  },
  {
   "cell_type": "code",
   "execution_count": 2,
   "metadata": {},
   "outputs": [],
   "source": [
    "file_path = \"./data/mimic-iv-note-deidentified-free-text-clinical-notes-2.2/note/\""
   ]
  },
  {
   "cell_type": "code",
   "execution_count": 3,
   "metadata": {},
   "outputs": [],
   "source": [
    "df = pd.read_csv(file_path+\"discharge.csv\")"
   ]
  },
  {
   "cell_type": "code",
   "execution_count": 6,
   "metadata": {},
   "outputs": [],
   "source": [
    "test = df[\"text\"][0]"
   ]
  },
  {
   "cell_type": "code",
   "execution_count": 31,
   "metadata": {},
   "outputs": [],
   "source": [
    "def clean_report(report):\n",
    "    start_marker = \"History of Present Illness:\"\n",
    "    end_marker = \"Discharge Instructions:\"\n",
    "    start_index = report.find(start_marker)\n",
    "    end_index = report.find(end_marker)\n",
    "    if start_index == -1:\n",
    "        start_index = 0\n",
    "    if end_index == -1:\n",
    "        end_index = len(report)\n",
    "    return report[start_index:end_index].strip()\n",
    "\n",
    "def card_generator(input_string, n=5):\n",
    "    # reformats text breaks to make annotation cards more consistent in length\n",
    "    sentences = input_string.replace(\"\\n\", \"\")\n",
    "    sentences = sentences.split(\".\")\n",
    "    result = \"\"\n",
    "    for i in range(len(sentences)):\n",
    "        result += sentences[i]\n",
    "        if (i+1) % n == 0 and i < len(sentences)-1:\n",
    "            result += \". \\n\"\n",
    "        else:\n",
    "            result += \". \"\n",
    "    result += \"\\n\"\n",
    "    return result "
   ]
  },
  {
   "cell_type": "code",
   "execution_count": 34,
   "metadata": {},
   "outputs": [],
   "source": [
    "text = \"\"\n",
    "for i in range(len(df)):\n",
    "    simplified_text = clean_report(df[\"text\"][i])\n",
    "    cards = card_generator(simplified_text)\n",
    "    text += cards\n",
    "text\n",
    "with open(\"./data/processed_text.txt\", \"w\") as f:\n",
    "    f.write(text)"
   ]
  },
  {
   "cell_type": "code",
   "execution_count": 6,
   "metadata": {},
   "outputs": [
    {
     "name": "stdout",
     "output_type": "stream",
     "text": [
      "Using 5 label(s): Inflammatory_symptom/sign, Inflammatory_investigation_results,\n",
      "Cancer, Immunotherapy, Chemotherapy\n",
      "\n",
      "✨  Starting the web server at http://localhost:8080 ...\n",
      "Open the app in your browser and start annotating!\n",
      "\n"
     ]
    }
   ],
   "source": [
    "dir = \"./data\"\n",
    "label_list = [\n",
    "   \"Inflammatory_symptom/sign\",\n",
    "   \"Inflammatory_investigation_results\",\n",
    "   \"Cancer\",\n",
    "   \"Immunotherapy\",\n",
    "   \"Chemotherapy\" \n",
    "]\n",
    "database = \"irAE\"\n",
    "model = \"en_core_web_sm\"\n",
    "annotate = fn.AnnotationProcess(dir, label_list, database, model)\n",
    "\n",
    "annotate.database_connect()\n",
    "\n",
    "annotate.prodigy_connect(\"ner.manual\", \"./data/processed_text.txt\")\n"
   ]
  },
  {
   "cell_type": "code",
   "execution_count": 25,
   "metadata": {},
   "outputs": [
    {
     "data": {
      "text/plain": [
       "['this is a sentence', ' this is another sentence']"
      ]
     },
     "execution_count": 25,
     "metadata": {},
     "output_type": "execute_result"
    }
   ],
   "source": [
    "t = \"this is a sentence. \\n this is another sentence\"\n",
    "sentences = t.replace(\"\\n\", \"\")\n",
    "sentences = sentences.split(\". \")\n",
    "sentences"
   ]
  }
 ],
 "metadata": {
  "kernelspec": {
   "display_name": "env",
   "language": "python",
   "name": "python3"
  },
  "language_info": {
   "codemirror_mode": {
    "name": "ipython",
    "version": 3
   },
   "file_extension": ".py",
   "mimetype": "text/x-python",
   "name": "python",
   "nbconvert_exporter": "python",
   "pygments_lexer": "ipython3",
   "version": "3.9.10"
  },
  "orig_nbformat": 4
 },
 "nbformat": 4,
 "nbformat_minor": 2
}
