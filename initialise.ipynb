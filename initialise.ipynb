{
 "cells": [
  {
   "cell_type": "code",
   "execution_count": 1,
   "metadata": {},
   "outputs": [],
   "source": [
    "import pandas as pd\n",
    "import functions as fn"
   ]
  },
  {
   "cell_type": "code",
   "execution_count": null,
   "metadata": {},
   "outputs": [],
   "source": [
    "### TODO\n",
    "### process discharge summaries to only include text sections\n",
    "### iterate through entire dataframe, extract all discharge summaries, save as text file"
   ]
  },
  {
   "cell_type": "code",
   "execution_count": 3,
   "metadata": {},
   "outputs": [],
   "source": [
    "file_path = \"./data/mimic-iv-note-deidentified-free-text-clinical-notes-2.2/note/\""
   ]
  },
  {
   "cell_type": "code",
   "execution_count": 4,
   "metadata": {},
   "outputs": [],
   "source": [
    "df = pd.read_csv(file_path+\"discharge.csv\")"
   ]
  },
  {
   "cell_type": "code",
   "execution_count": 5,
   "metadata": {},
   "outputs": [],
   "source": [
    "test = df[\"text\"][0]"
   ]
  },
  {
   "cell_type": "code",
   "execution_count": 18,
   "metadata": {},
   "outputs": [],
   "source": [
    "with open('medical_report.txt', 'w') as f:\n",
    "    f.write(test)"
   ]
  },
  {
   "cell_type": "code",
   "execution_count": 42,
   "metadata": {},
   "outputs": [
    {
     "data": {
      "text/plain": [
       "str"
      ]
     },
     "execution_count": 42,
     "metadata": {},
     "output_type": "execute_result"
    }
   ],
   "source": [
    "type(test)"
   ]
  },
  {
   "cell_type": "code",
   "execution_count": 7,
   "metadata": {},
   "outputs": [
    {
     "name": "stdout",
     "output_type": "stream",
     "text": [
      "Using 4 label(s): Medication, Frequency, Dose, Route\n",
      "\n",
      "✨  Starting the web server at http://localhost:8080 ...\n",
      "Open the app in your browser and start annotating!\n",
      "\n"
     ]
    }
   ],
   "source": [
    "dir = \"./data\"\n",
    "label_list = [\n",
    "    \"Medication\",\n",
    "    \"Frequency\",\n",
    "    \"Dose\",\n",
    "    \"Route\"\n",
    "]\n",
    "database = \"irAE\"\n",
    "model = \"en_core_web_sm\"\n",
    "annotate = fn.AnnotationProcess(dir, label_list, database, model)\n",
    "test_text = annotate.card_generator(test)\n",
    "\n",
    "with open('test.txt', 'w') as f:\n",
    "    f.write(test_text)\n",
    "\n",
    "annotate.database_connect()\n",
    "\n",
    "annotate.prodigy_connect(\"ner.manual\", \"./test.txt\")\n"
   ]
  },
  {
   "cell_type": "code",
   "execution_count": 25,
   "metadata": {},
   "outputs": [
    {
     "data": {
      "text/plain": [
       "['this is a sentence', ' this is another sentence']"
      ]
     },
     "execution_count": 25,
     "metadata": {},
     "output_type": "execute_result"
    }
   ],
   "source": [
    "t = \"this is a sentence. \\n this is another sentence\"\n",
    "sentences = t.replace(\"\\n\", \"\")\n",
    "sentences = sentences.split(\". \")\n",
    "sentences"
   ]
  }
 ],
 "metadata": {
  "kernelspec": {
   "display_name": "env",
   "language": "python",
   "name": "python3"
  },
  "language_info": {
   "codemirror_mode": {
    "name": "ipython",
    "version": 3
   },
   "file_extension": ".py",
   "mimetype": "text/x-python",
   "name": "python",
   "nbconvert_exporter": "python",
   "pygments_lexer": "ipython3",
   "version": "3.9.10"
  },
  "orig_nbformat": 4
 },
 "nbformat": 4,
 "nbformat_minor": 2
}
