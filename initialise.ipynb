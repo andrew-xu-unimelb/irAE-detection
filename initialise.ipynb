{
 "cells": [
  {
   "cell_type": "code",
   "execution_count": 1,
   "metadata": {},
   "outputs": [],
   "source": [
    "import pandas as pd\n",
    "import functions as fn\n",
    "import json"
   ]
  },
  {
   "cell_type": "code",
   "execution_count": 2,
   "metadata": {},
   "outputs": [
    {
     "data": {
      "text/plain": [
       "pandas.core.frame.DataFrame"
      ]
     },
     "execution_count": 2,
     "metadata": {},
     "output_type": "execute_result"
    }
   ],
   "source": [
    "file_path = \"./data/mimic-iv-note-deidentified-free-text-clinical-notes-2.2/note/\"\n",
    "df = pd.read_csv(file_path+\"discharge.csv\")\n",
    "type(df)"
   ]
  },
  {
   "cell_type": "code",
   "execution_count": 5,
   "metadata": {},
   "outputs": [],
   "source": [
    "### NOTE: only need to run this once - creates a file containing all the processed information ready for annotation\n",
    "file_path = \"./data/mimic-iv-note-deidentified-free-text-clinical-notes-2.2/note/\"\n",
    "df = pd.read_csv(file_path+\"discharge.csv\")\n",
    "all_cards = []\n",
    "for i in range(len(df)):\n",
    "    processor = fn.AnnotationProcess(df[\"text\"][i])\n",
    "    cards = processor.clean_report()\n",
    "    for card in cards:\n",
    "        all_cards.append(card)\n",
    "\n",
    "with open('./data/cards.json', \"w\") as f:\n",
    "    json.dump(all_cards, f)\n",
    "\n",
    "#with open(\"./data/processed_text.txt\", \"w\") as f:\n",
    "#    f.write(text)"
   ]
  },
  {
   "cell_type": "code",
   "execution_count": 3,
   "metadata": {},
   "outputs": [],
   "source": [
    "text = df[\"text\"][50]\n",
    "\n",
    "with open(\"./consultation_notes.txt\", \"w\") as f:\n",
    "    f.write(text)"
   ]
  },
  {
   "cell_type": "code",
   "execution_count": 5,
   "metadata": {},
   "outputs": [
    {
     "data": {
      "text/plain": [
       "' \\nName:  ___             Unit No:   ___\\n \\nAdmission Date:  ___              Discharge Date:   ___\\n \\nDate of Birth:  ___             Sex:   F\\n \\nService: MEDICINE\\n \\nAllergies: \\nIV Dye, Iodine Containing Contrast Media / Oxycodone / \\ncilostazol\\n \\nAttending: ___.\\n \\nChief Complaint:\\nPneumonia identified by outpatient CXR\\n\\n \\nMajor Surgical or Invasive Procedure:\\nNone\\n\\n \\nHistory of Present Illness:\\n___ PMH of Asthma, COPD, tobacco use,  p/w 4 days of \"cold like\" \\nsymptoms. Pt noted that she has a chronic cough at baseline, \\nworse at night, but noted that her cough was now productive of \\n___ sputum and was a/w wheezing and subjective fevers (but did \\nnot take her temperature). Pt also noted that baseline DOE \\nincreased to mild shortness of breath at rest during the same \\ntime period. Pt took tylenol and robitussin to good effect. Pt \\ndenied any CP, but noted that she felt her heart \"flutter\" \\nduring this time period. No changed in her 2 pillow orthopnea.\\n\\nPt did not have any recent sick contacts and denied any \\nassociation w/ headache, sore throat, sneezing, rhinorrhea, \\nnausea, vomiting, diarrhea, abdominal pain.  \\n\\nIn ED VS were T97.8 P78 BP136/97 R18 O296%NC. WBC was normal but \\npt noted to have wheezing on exam, and CXR was suggestive of RML \\nPNA so was given 125mg methylprednisone, 750mg levaquin, and \\ncombo nebs (albuterol/ipratropim). CHEM/Coags/UA negative. \\n\\nGiven co-morbidities, decision was made to admit pt while \\ninitiating Abx therapy. \\n\\n \\nPast Medical History:\\nASTHMA/COPD/Tobacco use\\nPeripheral Arterial disease s/p recent common iliac stenting\\nATRIAL TACHYCARDIA   \\nATYPICAL CHEST PAIN   \\nCERVICAL RADICULITIS   \\nCERVICAL SPONDYLOSIS   \\nCORONARY ARTERY DISEASE   \\nHEADACHE   \\nHIP REPLACEMENT   \\nHYPERLIPIDEMIA   \\nHYPERTENSION   \\nOSTEOARTHRITIS   \\nHERPES ZOSTER   \\nTOBACCO ABUSE   \\nATRIAL FIBRILLATION   \\nANXIETY    \\nGASTROINTESTINAL BLEEDING   \\nOSTEOARTHRITIS   \\nATHEROSCLEROTIC CARDIOVASCULAR DISEASE   \\nPERIPHERAL VASCULAR DISEASE   \\nURINARY TRACT INFECTION   \\nCATARACT SURGERY ___ \\n\\nSurgery:\\nBILATERAL COMMON ILIAC ARTERY STENTING ___ \\nBUNIONECTOMY   \\nHIP REPLACEMENT   \\nPRIOR CESAREAN SECTION   \\nGANGLION CYST \\n \\nSocial History:\\n___\\nFamily History:\\nMother: ___, HTN  \\nFather: ___ CA  \\nBrother: CA?  \\nBrother: ___ \\n\\n \\nPhysical ___:\\nADMISSION PHYSICAL EXAM:\\n============================\\nTm98.4, BP141/82, P71, R20, O297%RA\\nGENERAL: AOx3, pleasant affect, NAD\\nHEENT: MMM. no LAD. no JVD\\nHEART: RRR, S1/S2 normal, no murmurs/gallops/rubs.\\nLUNGS: Coarse breath sounds b/l with expiratory wheezing \\ndiffusely, RML/RLL crackles, no incr WOB (no accessory muscle \\nuse), no resp distress\\nABDOMEN: soft, nontender, nondistended. normoactive BS  \\nEXT: Warm, dry, well perfused, 1+ peripheral edema to mid calves \\nb/l \\nSKIN: dry, warm, no rashes\\nNEURO/PSYCH: AOx3, fluent speech, MAE spontaneously\\n\\nDISCHARGE PHYSICAL EXAM:\\n============================\\nTm:98.7, BP148-154/76-89, P72-81, R20, O29___-99RA\\nGENERAL: AOx3, pleasant affect, NAD\\nHEENT: MMM. no LAD. no JVD\\nHEART: RRR, S1/S2 normal, no murmurs/gallops/rubs.\\nLUNGS: Coarse breath sounds b/l with scant expiratory wheeze, no \\nincr WOB (no accessory muscle use), no resp distress\\nABDOMEN: soft, nontender, nondistended. normoactive BS  \\nEXT: Warm, dry, well perfused, 1+ peripheral edema to mid calves \\nb/l \\nSKIN: dry, warm, no rashes\\nNEURO/PSYCH: AOx3, fluent speech, MAE spontaneously\\n\\n \\nPertinent Results:\\nPERTINENT LABS:\\n==========================\\n___ 05:13PM BLOOD WBC-5.0 RBC-4.70 Hgb-13.8 Hct-42.7 MCV-91 \\nMCH-29.3 MCHC-32.3 RDW-14.3 Plt ___\\n___ 06:05AM BLOOD WBC-9.0# RBC-4.25 Hgb-12.6 Hct-38.6 \\nMCV-91 MCH-29.7 MCHC-32.7 RDW-14.4 Plt ___\\n___ 05:13PM BLOOD Neuts-53.9 ___ Monos-6.6 Eos-0.5 \\nBaso-0.8\\n___ 05:13PM BLOOD ___ PTT-31.7 ___\\n___ 12:39PM BLOOD UreaN-16 Creat-0.8 Na-138 K-3.5 Cl-98 \\nHCO3-29 AnGap-15\\n___ 06:05AM BLOOD Glucose-142* UreaN-15 Creat-0.7 Na-138 \\nK-3.5 Cl-100 HCO3-29 AnGap-13\\n___ 12:39PM BLOOD proBNP-233\\n___ 05:13PM BLOOD Calcium-9.9 Phos-2.5* Mg-1.8\\n___ 05:35PM BLOOD Lactate-1.5\\n\\nPERTINENT MICRO:\\n==========================\\nUrinalysis:\\n___ 05:30PM URINE Blood-NEG Nitrite-NEG Protein-TR \\nGlucose-NEG Ketone-NEG Bilirub-NEG Urobiln-NEG pH-7.0 Leuks-NEG\\n___ 05:30PM URINE RBC-0 WBC-<1 Bacteri-NONE Yeast-NONE \\nEpi-1\\n\\nBlood Cx (___): NGTD (preliminary)\\n\\nPERTINENT STUDIES:\\n==========================\\n\\nEKG: Sinus rhythm with frequent atrial premature beats. Left \\nbundle-branch block with extensive repolarization abnormalities. \\nCompared to the previous tracing of ___ the rhythm is now \\nsinus \\n\\nCXR (___): Right middle lobe opacity concerning for \\npneumonia.\\n \\nBrief Hospital Course:\\nBRIEF HOSPITAL COURSE:\\n===========================\\n___ PMH of Asthma, COPD, CAD, tobacco use, who presented w/ 4 \\ndays of shortness of breath and productive cough ___ sputum), \\nwho was found to have RML opacity on CXR at outpatient clinic so \\nwas referred to the ED.\\n\\nACTIVE ISSUES:\\n===========================\\n#Community Acquired Pneumonia\\nPt presented to outpatient cardiology appointment w/ 4 days of \\nshortness of breath and productive cough ___ sputum), and was \\nreferred to primary care clinic (Dr. ___. Dr ___ \\n___ a CXR which showed RML opacity on CXR. Given pt\\'s \\nunderlying lung pathology (COPD ___ longstanding tobacco use), \\nand multiple co-morbidities, she was admitted briefly to \\ninitiate antibiotics/steroids and ensure that she remained \\nclinically stable.\\n\\nWhile RML opacification was suggestive of CAP, COPD flare was \\nalso consideration given afebrile status and normal WBC. Exam \\nsignificant for afebrile status, saturation of 97% on RA \\n(baseline 95% RA), and coarse breath sounds w/ diffuse \\nexpiratory wheezing.\\n\\nPt was treated w/ Levaquin 750mg daily (planned 5d course), \\nsteroids (recieved 125 methylprednisone then 4d course of PO \\nprednisone), and had nebulizer treatments for symptom relief. \\n\\nGiven her clinical stability, she was discharged home with an \\noutpatient f/u w/ PCP (Dr. ___ on ___. Until then, \\npt will need to complete course of Antibiotics and Steroids. Pt \\nwas instructed to continue her outpatient COPD treatment regimen \\non discharge.\\n\\nCHRONIC ISSUES:\\n==========================\\n#Coronary Artery Disease\\nPt has a known history of CAD, but did not have any chest pain \\nduring this hospitalization and EKG was unchanged from prior. \\nAccordingly, she was continued on home dosages of plavix, \\naspirin, isosorbid mononitrate and diltiazem\\n\\n#Hypertension\\nPt has a known history of hypertension and was continued on her \\nhome dose hydrochlorothiazide.\\n\\n#Glaucoma\\nPt was continued on latanoprost drops before bed.\\n\\n#Hyperlipidemia\\nPt was continued on home dose simvastatin.\\n\\nTransitional Issues:\\n=====================\\n1. Pt will need to continue Levaquin 750mg daily to complete 5 \\nday course (Day 1 - ___\\n2. Pt will need to continue Prednisone 40mg daily to complete 4 \\nday course (Day 1 - ___\\n3. Pt will need to f/u w/ PCP ___ ___ to assess response to \\ntx and for general health care maintenance\\n4. Pt will need to use Nebulizer treatments at home for \\nsymptomatic relief for the next wk until pneumonia clears\\n\\nCode Status: FULL (confirmed w/ pt)\\nContact: ___ (husband ___, ___ (___)\\n \\nMedications on Admission:\\nThe Preadmission Medication list is accurate and complete.\\n1. Albuterol 0.083% Neb Soln 1 NEB IH Q6H:PRN shortness of \\nbreath \\n2. Albuterol Inhaler 2 PUFF IH Q4H:PRN shortness of breath \\n3. Symbicort (budesonide-formoterol) 160-4.5 mcg/actuation \\ninhalation BID \\n4. Clopidogrel 75 mg PO DAILY \\n5. Diltiazem Extended-Release 180 mg PO DAILY \\n6. Fluticasone Propionate NASAL 2 SPRY NU DAILY:PRN nasal \\ncongestion \\n7. Hydrochlorothiazide 50 mg PO DAILY \\n8. Isosorbide Mononitrate (Extended Release) 240 mg PO DAILY \\n9. Latanoprost 0.005% Ophth. Soln. 1 DROP LEFT EYE HS \\n10. Simvastatin 20 mg PO DAILY \\n11. Theophylline ER 300 mg PO BID \\n12. Tiotropium Bromide 1 CAP IH DAILY \\n13. Acetaminophen 325 mg PO Q4H:PRN pain \\n14. Aspirin 81 mg PO DAILY \\n15. Calcarb 600 With Vitamin D (calcium carbonate-vitamin D3) \\n315/200 mg oral daily \\n16. cod liver oil 1,250-135 unit oral BID \\n17. Multivitamins W/minerals 1 TAB PO DAILY \\n\\n \\nDischarge Medications:\\n1. Acetaminophen 325 mg PO Q4H:PRN pain \\n2. Albuterol 0.083% Neb Soln 1 NEB IH Q6H:PRN shortness of \\nbreath \\n3. Aspirin 81 mg PO DAILY \\n4. Clopidogrel 75 mg PO DAILY \\n5. Diltiazem Extended-Release 180 mg PO DAILY \\n6. Fluticasone Propionate NASAL 2 SPRY NU DAILY:PRN nasal \\ncongestion \\n7. Hydrochlorothiazide 50 mg PO DAILY \\n8. Isosorbide Mononitrate (Extended Release) 240 mg PO DAILY \\n9. Latanoprost 0.005% Ophth. Soln. 1 DROP LEFT EYE HS \\n10. Multivitamins W/minerals 1 TAB PO DAILY \\n11. Simvastatin 20 mg PO DAILY \\n12. Theophylline ER 300 mg PO BID \\n13. Tiotropium Bromide 1 CAP IH DAILY \\n14. Albuterol Inhaler 2 PUFF IH Q4H:PRN shortness of breath \\n15. Calcarb 600 With Vitamin D (calcium carbonate-vitamin D3) \\n315/200 mg oral daily \\n16. cod liver oil 1,250-135 unit oral BID \\n17. Symbicort (budesonide-formoterol) 160-4.5 mcg/actuation \\nINHALATION BID \\n18. Cepastat (Phenol) Lozenge 2 LOZ PO Q2H:PRN sore throat \\nRX *phenol [Cepastat] 14.5 mg 2 lozenges every ___ as needed \\nfor sore throat Disp #*36 Lozenge Refills:*0\\n19. Levofloxacin 750 mg PO Q24H Duration: 2 Days \\nRX *levofloxacin 750 mg 1 tablet(s) by mouth daily Disp #*2 \\nTablet Refills:*0\\n20. PredniSONE 40 mg PO DAILY Duration: 2 Days \\nRX *prednisone 20 mg 2 tablet(s) by mouth daily Disp #*4 Tablet \\nRefills:*0\\n\\n \\nDischarge Disposition:\\nHome\\n \\nDischarge Diagnosis:\\nCommunity Acquired Pneumonia\\nCOPD\\nAsthma\\n\\n \\nDischarge Condition:\\nDischarge Condition: Stable\\nMental Status: AOx3 (Baseline)\\nAmbulatory Status: Baseline\\n\\n \\nDischarge Instructions:\\nMs. ___,\\n\\nIt was a pleasure taking care of you while you were hospitalized \\nat ___. As you know, you were \\nadmitted for initial treatment of pneumonia, to ensure that you \\nwere responding well to the antibiotics, given your history of \\nCOPD/Asthma. Fortunately, you responded quite well to the \\nAntiobiotics, Steroids, and Nebulizer treatments that were \\nadministered. Since your breathing was stable and you were \\nresponding appropriately to treatments, you were discharged to \\nhome. However, you should be vigilant in making sure that you \\ncontinue the antibiotics & steroids for the short course listed \\non the medication page. You should also be sure to see Dr. ___ \\nat your next appointment to ensure that your pneumonia has \\nresolved.\\n \\nFollowup Instructions:\\n___\\n'"
      ]
     },
     "execution_count": 5,
     "metadata": {},
     "output_type": "execute_result"
    }
   ],
   "source": [
    "text"
   ]
  },
  {
   "cell_type": "code",
   "execution_count": 2,
   "metadata": {},
   "outputs": [
    {
     "name": "stdout",
     "output_type": "stream",
     "text": [
      "Using 2 label(s): irAE_symptoms, irAE_investigations\n",
      "\n",
      "✨  Starting the web server at http://localhost:8080 ...\n",
      "Open the app in your browser and start annotating!\n",
      "\n"
     ]
    }
   ],
   "source": [
    "dir = \"./data\"\n",
    "label_list = [\n",
    "   \"irAE_symptoms\",\n",
    "   \"irAE_investigations\"\n",
    "]\n",
    "database = \"irAE\"\n",
    "model = \"en_core_web_sm\"\n",
    "annotate = fn.ProdigyFunctions(dir, label_list, database, model)\n",
    "\n",
    "annotate.database_connect()\n",
    "\n",
    "annotate.prodigy_connect(\"ner.manual\", \"./data/cards.json\")\n"
   ]
  }
 ],
 "metadata": {
  "kernelspec": {
   "display_name": "env",
   "language": "python",
   "name": "python3"
  },
  "language_info": {
   "codemirror_mode": {
    "name": "ipython",
    "version": 3
   },
   "file_extension": ".py",
   "mimetype": "text/x-python",
   "name": "python",
   "nbconvert_exporter": "python",
   "pygments_lexer": "ipython3",
   "version": "3.9.10"
  },
  "orig_nbformat": 4
 },
 "nbformat": 4,
 "nbformat_minor": 2
}
