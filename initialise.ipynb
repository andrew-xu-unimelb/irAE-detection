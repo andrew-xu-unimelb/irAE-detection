{
 "cells": [
  {
   "cell_type": "code",
   "execution_count": 2,
   "metadata": {},
   "outputs": [],
   "source": [
    "import pandas as pd\n",
    "import functions as fn"
   ]
  },
  {
   "cell_type": "code",
   "execution_count": null,
   "metadata": {},
   "outputs": [],
   "source": [
    "### TODO"
   ]
  },
  {
   "attachments": {},
   "cell_type": "markdown",
   "metadata": {},
   "source": [
    "Questions:\n",
    "- Should this be a NER task?\n",
    "- If it is a NER task - would it be: can I identify which symptoms are potentially related to irAEs?\n",
    "- Should there be any additional considerations? e.g. which files belong to people with chemo, etc\n",
    "- removing:\n",
    "    - everything above HOPC\n",
    "    - everything below Discharge Instructions"
   ]
  },
  {
   "cell_type": "code",
   "execution_count": 2,
   "metadata": {},
   "outputs": [],
   "source": [
    "file_path = \"./data/mimic-iv-note-deidentified-free-text-clinical-notes-2.2/note/\"\n",
    "df = pd.read_csv(file_path+\"discharge.csv\")"
   ]
  },
  {
   "cell_type": "code",
   "execution_count": 31,
   "metadata": {},
   "outputs": [],
   "source": []
  },
  {
   "cell_type": "code",
   "execution_count": 34,
   "metadata": {},
   "outputs": [],
   "source": [
    "text = \"\"\n",
    "for i in range(len(df)):\n",
    "    processor = fn.AnnotationProcess(df[\"text\"][i])\n",
    "    cards = processor.card_generator()\n",
    "    text += cards\n",
    "text\n",
    "with open(\"./data/processed_text.txt\", \"w\") as f:\n",
    "    f.write(text)"
   ]
  },
  {
   "cell_type": "code",
   "execution_count": 1,
   "metadata": {},
   "outputs": [
    {
     "ename": "NameError",
     "evalue": "name 'fn' is not defined",
     "output_type": "error",
     "traceback": [
      "\u001b[0;31m---------------------------------------------------------------------------\u001b[0m",
      "\u001b[0;31mNameError\u001b[0m                                 Traceback (most recent call last)",
      "Cell \u001b[0;32mIn[1], line 11\u001b[0m\n\u001b[1;32m      9\u001b[0m database \u001b[39m=\u001b[39m \u001b[39m\"\u001b[39m\u001b[39mirAE\u001b[39m\u001b[39m\"\u001b[39m\n\u001b[1;32m     10\u001b[0m model \u001b[39m=\u001b[39m \u001b[39m\"\u001b[39m\u001b[39men_core_web_sm\u001b[39m\u001b[39m\"\u001b[39m\n\u001b[0;32m---> 11\u001b[0m annotate \u001b[39m=\u001b[39m fn\u001b[39m.\u001b[39mAnnotationProcess(\u001b[39mdir\u001b[39m, label_list, database, model)\n\u001b[1;32m     13\u001b[0m annotate\u001b[39m.\u001b[39mdatabase_connect()\n\u001b[1;32m     15\u001b[0m annotate\u001b[39m.\u001b[39mprodigy_connect(\u001b[39m\"\u001b[39m\u001b[39mner.manual\u001b[39m\u001b[39m\"\u001b[39m, \u001b[39m\"\u001b[39m\u001b[39m./data/processed_text.txt\u001b[39m\u001b[39m\"\u001b[39m)\n",
      "\u001b[0;31mNameError\u001b[0m: name 'fn' is not defined"
     ]
    }
   ],
   "source": [
    "dir = \"./data\"\n",
    "label_list = [\n",
    "   \"Inflammatory_symptom/sign\",\n",
    "   \"Inflammatory_investigation_results\",\n",
    "   \"Cancer\",\n",
    "   \"Immunotherapy\",\n",
    "   \"Chemotherapy\" \n",
    "]\n",
    "database = \"irAE\"\n",
    "model = \"en_core_web_sm\"\n",
    "annotate = fn.ProdigyFunctions(dir, label_list, database, model)\n",
    "\n",
    "annotate.database_connect()\n",
    "\n",
    "annotate.prodigy_connect(\"ner.manual\", \"./data/processed_text.txt\")\n"
   ]
  },
  {
   "cell_type": "code",
   "execution_count": 25,
   "metadata": {},
   "outputs": [
    {
     "data": {
      "text/plain": [
       "['this is a sentence', ' this is another sentence']"
      ]
     },
     "execution_count": 25,
     "metadata": {},
     "output_type": "execute_result"
    }
   ],
   "source": [
    "t = \"this is a sentence. \\n this is another sentence\"\n",
    "sentences = t.replace(\"\\n\", \"\")\n",
    "sentences = sentences.split(\". \")\n",
    "sentences"
   ]
  }
 ],
 "metadata": {
  "kernelspec": {
   "display_name": "env",
   "language": "python",
   "name": "python3"
  },
  "language_info": {
   "codemirror_mode": {
    "name": "ipython",
    "version": 3
   },
   "file_extension": ".py",
   "mimetype": "text/x-python",
   "name": "python",
   "nbconvert_exporter": "python",
   "pygments_lexer": "ipython3",
   "version": "3.9.10"
  },
  "orig_nbformat": 4
 },
 "nbformat": 4,
 "nbformat_minor": 2
}
