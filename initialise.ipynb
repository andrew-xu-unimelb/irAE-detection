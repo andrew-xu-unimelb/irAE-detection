{
 "cells": [
  {
   "cell_type": "code",
   "execution_count": 7,
   "metadata": {},
   "outputs": [],
   "source": [
    "import pandas as pd"
   ]
  },
  {
   "cell_type": "code",
   "execution_count": null,
   "metadata": {},
   "outputs": [],
   "source": [
    "### TODO\n",
    "### import all prodigy functions\n",
    "### figure out how to process information wthin the string into prodigy for annotation\n",
    "### determine whether reading dataframe into prodigy is possible"
   ]
  },
  {
   "cell_type": "code",
   "execution_count": 9,
   "metadata": {},
   "outputs": [],
   "source": [
    "file_path = \"./data/mimic-iv-note-deidentified-free-text-clinical-notes-2.2/note/\""
   ]
  },
  {
   "cell_type": "code",
   "execution_count": 11,
   "metadata": {},
   "outputs": [],
   "source": [
    "df = pd.read_csv(file_path+\"discharge.csv\")"
   ]
  },
  {
   "cell_type": "code",
   "execution_count": 12,
   "metadata": {},
   "outputs": [
    {
     "name": "stdout",
     "output_type": "stream",
     "text": [
      "          note_id  subject_id   hadm_id note_type  note_seq   \n",
      "0  10000032-DS-21    10000032  22595853        DS        21  \\\n",
      "1  10000032-DS-22    10000032  22841357        DS        22   \n",
      "2  10000032-DS-23    10000032  29079034        DS        23   \n",
      "3  10000032-DS-24    10000032  25742920        DS        24   \n",
      "4  10000084-DS-17    10000084  23052089        DS        17   \n",
      "\n",
      "             charttime            storetime   \n",
      "0  2180-05-07 00:00:00  2180-05-09 15:26:00  \\\n",
      "1  2180-06-27 00:00:00  2180-07-01 10:15:00   \n",
      "2  2180-07-25 00:00:00  2180-07-25 21:42:00   \n",
      "3  2180-08-07 00:00:00  2180-08-10 05:43:00   \n",
      "4  2160-11-25 00:00:00  2160-11-25 15:09:00   \n",
      "\n",
      "                                                text  \n",
      "0   \\nName:  ___                     Unit No:   _...  \n",
      "1   \\nName:  ___                     Unit No:   _...  \n",
      "2   \\nName:  ___                     Unit No:   _...  \n",
      "3   \\nName:  ___                     Unit No:   _...  \n",
      "4   \\nName:  ___                    Unit No:   __...  \n"
     ]
    }
   ],
   "source": [
    "print(df.head())"
   ]
  },
  {
   "cell_type": "code",
   "execution_count": 17,
   "metadata": {},
   "outputs": [],
   "source": [
    "test = df[\"text\"][0]"
   ]
  },
  {
   "cell_type": "code",
   "execution_count": 18,
   "metadata": {},
   "outputs": [],
   "source": [
    "with open('medical_report.txt', 'w') as f:\n",
    "    f.write(test)"
   ]
  }
 ],
 "metadata": {
  "kernelspec": {
   "display_name": "env",
   "language": "python",
   "name": "python3"
  },
  "language_info": {
   "codemirror_mode": {
    "name": "ipython",
    "version": 3
   },
   "file_extension": ".py",
   "mimetype": "text/x-python",
   "name": "python",
   "nbconvert_exporter": "python",
   "pygments_lexer": "ipython3",
   "version": "3.9.10"
  },
  "orig_nbformat": 4
 },
 "nbformat": 4,
 "nbformat_minor": 2
}
